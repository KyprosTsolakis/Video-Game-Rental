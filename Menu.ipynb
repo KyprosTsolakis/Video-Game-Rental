{
 "cells": [
  {
   "cell_type": "markdown",
   "id": "95040032",
   "metadata": {},
   "source": [
    "Menu"
   ]
  },
  {
   "cell_type": "code",
   "execution_count": 1,
   "id": "5cf3d515",
   "metadata": {
    "scrolled": true
   },
   "outputs": [
    {
     "data": {
      "application/vnd.jupyter.widget-view+json": {
       "model_id": "a06936c9b2814d7f814765afccff47b7",
       "version_major": 2,
       "version_minor": 0
      },
      "text/plain": [
       "Tab(children=(VBox(children=(Button(description='Initialize Database', style=ButtonStyle(button_color='lightgr…"
      ]
     },
     "metadata": {},
     "output_type": "display_data"
    }
   ],
   "source": [
    "import pandas as pd\n",
    "import matplotlib.pyplot as plt\n",
    "import ipywidgets as widgets\n",
    "import sqlite3\n",
    "from IPython.display import display\n",
    "\n",
    "import gameSearch, gameRent, gameReturn, gameSelect \n",
    "from database import init_db\n",
    "\n",
    "def initialize_database(btn):\n",
    "    \"\"\"Initialize the database by invoking the init function from operation.py.\"\"\"\n",
    "    init_db()\n",
    "    with output:\n",
    "        print(\"Database initialized.\")\n",
    "\n",
    "def display_game_search_results(btn):\n",
    "    \"\"\"Display the search results for games.\"\"\"\n",
    "    search_term = input_search_term.value\n",
    "    search_results = gameSearch.gameSearch(search_term, conn)  # Pass the SQLite database connection\n",
    "    with output:\n",
    "        if not search_results:\n",
    "            print(\"No games found.\")\n",
    "        else:\n",
    "            display(pd.DataFrame(search_results))\n",
    "\n",
    "def rent_game(btn):\n",
    "    \"\"\"Handle game rental functionality.\"\"\"\n",
    "    customer_id = input_customer_id.value\n",
    "    game_id = input_game_id.value\n",
    "    result = gameRent.gameRent(customer_id, game_id, conn)  # Pass the SQLite database connection\n",
    "    with output:\n",
    "        print(result)\n",
    "\n",
    "def return_game(btn):\n",
    "    \"\"\"Handle returning a rented game.\"\"\"\n",
    "    game_id = input_return_game_id.value\n",
    "    result = gameReturn.gameReturn(game_id, conn)  # Pass the SQLite database connection\n",
    "    with output:\n",
    "        print(result)\n",
    "\n",
    "def create_purchase_order(btn):\n",
    "    \"\"\"Generate a purchase order based on the budget and recommend games and genres.\"\"\"\n",
    "    budget = input_budget.value\n",
    "    purchase_order = gameSelect.gameSelect(budget, conn)  # Pass the SQLite database connection\n",
    "    with output:\n",
    "        print(\"Purchase Order Recommendations:\")\n",
    "        for game, popularity in purchase_order['Game Titles']:\n",
    "            print(f\"Title: {game}, Popularity: {popularity}\")\n",
    "\n",
    "def clear_output(btn):\n",
    "    \"\"\"Clear the output area.\"\"\"\n",
    "    output.clear_output()\n",
    "\n",
    "# Create an SQLite connection\n",
    "conn = sqlite3.connect('GameRental.db')\n",
    "\n",
    "# Create components\n",
    "btnInitializeDB = widgets.Button(description='Initialize Database', style={'button_color': 'lightgreen'})\n",
    "btnClear = widgets.Button(description='Clear', style={'button_color': '#d3d3d3'})  # Using HTML color code for lightgrey\n",
    "btnSearchGames = widgets.Button(description='Search Games', style={'button_color': 'lightblue'})\n",
    "btnRentGame = widgets.Button(description='Rent Game', style={'button_color': 'lightcoral'})\n",
    "btnReturnGame = widgets.Button(description='Return Game', style={'button_color': 'lightgoldenrodyellow'})\n",
    "btnCreatePurchaseOrder = widgets.Button(description='Create Purchase Order', style={'button_color': 'lightpink'})\n",
    "output = widgets.Output()\n",
    "input_search_term = widgets.Text(placeholder=\"Search term\", description=\"Search Term:\")\n",
    "input_customer_id = widgets.IntText(placeholder=\"Customer ID\", description=\"Customer ID:\")\n",
    "input_game_id = widgets.IntText(placeholder=\"Game ID\", description=\"Game ID:\")\n",
    "input_return_game_id = widgets.IntText(placeholder=\"Return Game ID\", description=\"Return Game ID:\")\n",
    "input_budget = widgets.IntText(placeholder=\"Budget (£)\", description=\"Budget (£)\")\n",
    "\n",
    "# Layout\n",
    "tab_contents = ['Initialize', 'Search', 'Rent', 'Return', 'Purchase Order']\n",
    "children = [\n",
    "    widgets.VBox([btnInitializeDB, btnClear, output]),\n",
    "    widgets.VBox([btnSearchGames, input_search_term, btnClear, output]),\n",
    "    widgets.VBox([btnRentGame, input_customer_id, input_game_id, btnClear, output]),\n",
    "    widgets.VBox([btnReturnGame, input_return_game_id, btnClear, output]),\n",
    "    widgets.VBox([btnCreatePurchaseOrder, input_budget, btnClear, output])\n",
    "]\n",
    "\n",
    "tab = widgets.Tab()\n",
    "tab.children = children\n",
    "for i in range(len(children)):\n",
    "    tab.set_title(i, tab_contents[i])\n",
    "\n",
    "# Interaction\n",
    "btnInitializeDB.on_click(initialize_database)\n",
    "btnSearchGames.on_click(display_game_search_results)\n",
    "btnRentGame.on_click(rent_game)\n",
    "btnReturnGame.on_click(return_game)\n",
    "btnCreatePurchaseOrder.on_click(create_purchase_order)\n",
    "btnClear.on_click(clear_output)\n",
    "\n",
    "# Display the widgets\n",
    "display(tab)\n"
   ]
  },
  {
   "cell_type": "code",
   "execution_count": null,
   "id": "64deabda",
   "metadata": {},
   "outputs": [],
   "source": []
  }
 ],
 "metadata": {
  "kernelspec": {
   "display_name": "Python 3 (ipykernel)",
   "language": "python",
   "name": "python3"
  },
  "language_info": {
   "codemirror_mode": {
    "name": "ipython",
    "version": 3
   },
   "file_extension": ".py",
   "mimetype": "text/x-python",
   "name": "python",
   "nbconvert_exporter": "python",
   "pygments_lexer": "ipython3",
   "version": "3.11.5"
  }
 },
 "nbformat": 4,
 "nbformat_minor": 5
}
